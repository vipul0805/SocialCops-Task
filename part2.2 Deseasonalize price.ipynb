{
 "cells": [
  {
   "cell_type": "markdown",
   "metadata": {},
   "source": [
    "# De-seasonalizing the price of commodity according to the detected seasonality type"
   ]
  },
  {
   "cell_type": "code",
   "execution_count": 1,
   "metadata": {},
   "outputs": [],
   "source": [
    "import numpy as np\n",
    "import pandas as pd"
   ]
  },
  {
   "cell_type": "code",
   "execution_count": 2,
   "metadata": {},
   "outputs": [],
   "source": [
    "def deseasonalise_values(data_filter,value):\n",
    "    data_filter[\"trend\"]=data_filter[\"modal_price\"].rolling(window=2).mean()\n",
    "    \n",
    "    if (value==\"Additive\"):\n",
    "        data_filter[\"detrended_additive\"]=data_filter[\"modal_price\"]-data_filter[\"trend\"]\n",
    "        additive_mean=data_filter[[\"detrended_additive\",\"quarter\"]].groupby([\"quarter\"]).mean().to_dict()[\"detrended_additive\"]\n",
    "        data_filter[\"seasonal_additive\"]=data_filter[\"quarter\"].apply(lambda x: additive_mean[x])\n",
    "        values=data_filter[\"modal_price\"]-data_filter[\"seasonal_additive\"]\n",
    "        values=values.tolist()\n",
    "        \n",
    "    else:\n",
    "        data_filter[\"detrended_multiplicative\"]=data_filter[\"modal_price\"]/data_filter[\"trend\"]\n",
    "        multiplicative_mean=data_filter[[\"detrended_multiplicative\",\"quarter\"]].groupby([\"quarter\"]).mean().to_dict()[\"detrended_multiplicative\"]\n",
    "        data_filter[\"seasonal_multiplicative\"]=data_filter[\"quarter\"].apply(lambda x: multiplicative_mean[x])\n",
    "        values=data_filter[\"modal_price\"]/data_filter[\"seasonal_multiplicative\"]\n",
    "        values=values.tolist()\n",
    "        \n",
    "    indexes=data_filter.index.tolist()\n",
    "\n",
    "    values_range=range(0,len(values))\n",
    "    \n",
    "    for index,value in zip(indexes,values_range):\n",
    "        \n",
    "        data_filter.at[index,\"deseasonalise_price\"]=values[value]\n",
    "        \n",
    "    return data_filter[[\"APMC\",\"Commodity\",\"identifier\",\"date\",\"modal_price\",\"quarter\",\"deseasonalise_price\"]]"
   ]
  },
  {
   "cell_type": "code",
   "execution_count": 3,
   "metadata": {},
   "outputs": [],
   "source": [
    "df_type=pd.read_csv(\"C:\\\\Users\\\\vj0805\\\\Desktop\\\\Socialcops\\\\seasonality_type.csv\").set_index(\"Commodity\").to_dict()[\"Seasonality Type\"]\n",
    "df_data=pd.read_csv(\"C:\\\\Users\\\\vj0805\\\\Desktop\\\\Socialcops\\\\seasonal_data_analysis.csv\")\n",
    "df_data[\"deseasonalise_price\"]=np.nan #initialize empty column"
   ]
  },
  {
   "cell_type": "code",
   "execution_count": 4,
   "metadata": {},
   "outputs": [
    {
     "name": "stderr",
     "output_type": "stream",
     "text": [
      "C:\\Users\\vj0805\\Anaconda3\\lib\\site-packages\\ipykernel_launcher.py:2: SettingWithCopyWarning: \n",
      "A value is trying to be set on a copy of a slice from a DataFrame.\n",
      "Try using .loc[row_indexer,col_indexer] = value instead\n",
      "\n",
      "See the caveats in the documentation: http://pandas.pydata.org/pandas-docs/stable/indexing.html#indexing-view-versus-copy\n",
      "  \n",
      "C:\\Users\\vj0805\\Anaconda3\\lib\\site-packages\\ipykernel_launcher.py:5: SettingWithCopyWarning: \n",
      "A value is trying to be set on a copy of a slice from a DataFrame.\n",
      "Try using .loc[row_indexer,col_indexer] = value instead\n",
      "\n",
      "See the caveats in the documentation: http://pandas.pydata.org/pandas-docs/stable/indexing.html#indexing-view-versus-copy\n",
      "  \"\"\"\n",
      "C:\\Users\\vj0805\\Anaconda3\\lib\\site-packages\\ipykernel_launcher.py:7: SettingWithCopyWarning: \n",
      "A value is trying to be set on a copy of a slice from a DataFrame.\n",
      "Try using .loc[row_indexer,col_indexer] = value instead\n",
      "\n",
      "See the caveats in the documentation: http://pandas.pydata.org/pandas-docs/stable/indexing.html#indexing-view-versus-copy\n",
      "  import sys\n",
      "C:\\Users\\vj0805\\Anaconda3\\lib\\site-packages\\ipykernel_launcher.py:12: SettingWithCopyWarning: \n",
      "A value is trying to be set on a copy of a slice from a DataFrame.\n",
      "Try using .loc[row_indexer,col_indexer] = value instead\n",
      "\n",
      "See the caveats in the documentation: http://pandas.pydata.org/pandas-docs/stable/indexing.html#indexing-view-versus-copy\n",
      "  if sys.path[0] == '':\n",
      "C:\\Users\\vj0805\\Anaconda3\\lib\\site-packages\\ipykernel_launcher.py:14: SettingWithCopyWarning: \n",
      "A value is trying to be set on a copy of a slice from a DataFrame.\n",
      "Try using .loc[row_indexer,col_indexer] = value instead\n",
      "\n",
      "See the caveats in the documentation: http://pandas.pydata.org/pandas-docs/stable/indexing.html#indexing-view-versus-copy\n",
      "  \n"
     ]
    }
   ],
   "source": [
    "commoditites=list(df_type.keys())\n",
    "data_main=pd.DataFrame() #new data frame \n",
    "for commoditiy in commoditites:\n",
    "    data_temp=deseasonalise_values(df_data[df_data[\"identifier\"]==commoditiy],df_type[commoditiy])\n",
    "    data_main=pd.concat([data_main,data_temp])\n",
    "data_main.to_csv(\"C:\\\\Users\\\\vj0805\\\\Desktop\\\\Socialcops\\\\deseasonalize_data.csv\",index=False)"
   ]
  },
  {
   "cell_type": "code",
   "execution_count": null,
   "metadata": {},
   "outputs": [],
   "source": []
  }
 ],
 "metadata": {
  "kernelspec": {
   "display_name": "Python 3",
   "language": "python",
   "name": "python3"
  },
  "language_info": {
   "codemirror_mode": {
    "name": "ipython",
    "version": 3
   },
   "file_extension": ".py",
   "mimetype": "text/x-python",
   "name": "python",
   "nbconvert_exporter": "python",
   "pygments_lexer": "ipython3",
   "version": "3.5.2"
  }
 },
 "nbformat": 4,
 "nbformat_minor": 2
}
