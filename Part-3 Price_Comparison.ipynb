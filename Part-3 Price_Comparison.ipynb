{
 "cells": [
  {
   "cell_type": "markdown",
   "metadata": {},
   "source": [
    "# Plotting Price comparisons between modal,msprice and deseasonalized price"
   ]
  },
  {
   "cell_type": "code",
   "execution_count": 1,
   "metadata": {},
   "outputs": [],
   "source": [
    "import numpy as np\n",
    "import pandas as pd \n",
    "import matplotlib.pyplot as plt"
   ]
  },
  {
   "cell_type": "code",
   "execution_count": 2,
   "metadata": {},
   "outputs": [],
   "source": [
    "df=pd.read_csv(\"C:\\\\Users\\\\vj0805\\\\Desktop\\\\Socialcops\\\\deseasonalize_data.csv\")"
   ]
  },
  {
   "cell_type": "code",
   "execution_count": 3,
   "metadata": {},
   "outputs": [],
   "source": [
    "df[\"date\"]=pd.to_datetime(df[\"date\"])"
   ]
  },
  {
   "cell_type": "code",
   "execution_count": 4,
   "metadata": {},
   "outputs": [],
   "source": [
    "commodity = df['Commodity'].unique().tolist()"
   ]
  },
  {
   "cell_type": "code",
   "execution_count": 5,
   "metadata": {},
   "outputs": [],
   "source": [
    "df_mandi = pd.read_csv(\"C:\\\\Users\\\\vj0805\\\\Desktop\\\\Socialcops\\\\CMO_MSP_Mandi_filtered.csv\")"
   ]
  },
  {
   "cell_type": "code",
   "execution_count": 6,
   "metadata": {},
   "outputs": [],
   "source": [
    "commodities = df_mandi['commodity'].unique().tolist()"
   ]
  },
  {
   "cell_type": "code",
   "execution_count": 7,
   "metadata": {},
   "outputs": [
    {
     "data": {
      "text/html": [
       "<div>\n",
       "<style scoped>\n",
       "    .dataframe tbody tr th:only-of-type {\n",
       "        vertical-align: middle;\n",
       "    }\n",
       "\n",
       "    .dataframe tbody tr th {\n",
       "        vertical-align: top;\n",
       "    }\n",
       "\n",
       "    .dataframe thead th {\n",
       "        text-align: right;\n",
       "    }\n",
       "</style>\n",
       "<table border=\"1\" class=\"dataframe\">\n",
       "  <thead>\n",
       "    <tr style=\"text-align: right;\">\n",
       "      <th></th>\n",
       "      <th>commodity</th>\n",
       "      <th>year</th>\n",
       "      <th>Type</th>\n",
       "      <th>msprice</th>\n",
       "      <th>msp_filter</th>\n",
       "    </tr>\n",
       "  </thead>\n",
       "  <tbody>\n",
       "    <tr>\n",
       "      <th>2</th>\n",
       "      <td>bajri</td>\n",
       "      <td>2014-01-01</td>\n",
       "      <td>Kharif Crops</td>\n",
       "      <td>1250.0</td>\n",
       "      <td>1</td>\n",
       "    </tr>\n",
       "    <tr>\n",
       "      <th>3</th>\n",
       "      <td>bajri</td>\n",
       "      <td>2015-01-01</td>\n",
       "      <td>Kharif Crops</td>\n",
       "      <td>1275.0</td>\n",
       "      <td>1</td>\n",
       "    </tr>\n",
       "    <tr>\n",
       "      <th>4</th>\n",
       "      <td>bajri</td>\n",
       "      <td>2016-01-01</td>\n",
       "      <td>Kharif Crops</td>\n",
       "      <td>1330.0</td>\n",
       "      <td>1</td>\n",
       "    </tr>\n",
       "    <tr>\n",
       "      <th>7</th>\n",
       "      <td>cotton</td>\n",
       "      <td>2014-01-01</td>\n",
       "      <td>Kharif Crops</td>\n",
       "      <td>3750.0</td>\n",
       "      <td>1</td>\n",
       "    </tr>\n",
       "    <tr>\n",
       "      <th>8</th>\n",
       "      <td>cotton</td>\n",
       "      <td>2015-01-01</td>\n",
       "      <td>Kharif Crops</td>\n",
       "      <td>3800.0</td>\n",
       "      <td>1</td>\n",
       "    </tr>\n",
       "  </tbody>\n",
       "</table>\n",
       "</div>"
      ],
      "text/plain": [
       "  commodity       year          Type  msprice  msp_filter\n",
       "2     bajri 2014-01-01  Kharif Crops   1250.0           1\n",
       "3     bajri 2015-01-01  Kharif Crops   1275.0           1\n",
       "4     bajri 2016-01-01  Kharif Crops   1330.0           1\n",
       "7    cotton 2014-01-01  Kharif Crops   3750.0           1\n",
       "8    cotton 2015-01-01  Kharif Crops   3800.0           1"
      ]
     },
     "execution_count": 7,
     "metadata": {},
     "output_type": "execute_result"
    }
   ],
   "source": [
    "df_mandi = df_mandi[df_mandi['year'] != 2012]\n",
    "df_mandi = df_mandi[df_mandi['year'] != 2013]\n",
    "df_mandi[\"year\"]=pd.to_datetime(df_mandi[\"year\"], format= '%Y')\n",
    "df_mandi.head()"
   ]
  },
  {
   "cell_type": "code",
   "execution_count": 8,
   "metadata": {},
   "outputs": [],
   "source": [
    "def compare_price(apmc, commodity):\n",
    "    \n",
    "    label = str(apmc)+'_'+str(commodity)\n",
    "    data_filter = df[df[\"identifier\"]==label]\n",
    "    if data_filter.shape[0] == 0: \n",
    "        return \"Not enough data\"\n",
    "    \n",
    "    msp = df_mandi[df_mandi['commodity'] == commodity]\n",
    "    msp = msp[['year', 'msprice']]\n",
    "    \n",
    "    # Plotting (Dates on X axis)\n",
    "    xaxis = pd.to_datetime(data_filter['date'])\n",
    "    plt.figure(figsize=(9, 7))\n",
    "    plt.plot(data_filter['date'], data_filter['modal_price'])\n",
    "    plt.plot(data_filter['date'], data_filter['deseasonalise_price'])\n",
    "    plt.plot(msp['year'], msp['msprice'], color = 'y')\n",
    "    plt.legend(['Actual price', 'Deseasonalized', 'MSP'])\n",
    "    plt.show()\n",
    "    plt.savefig(\"Price Comaprison.jpg\",dpi=300)"
   ]
  },
  {
   "cell_type": "code",
   "execution_count": 11,
   "metadata": {
    "scrolled": false
   },
   "outputs": [
    {
     "name": "stdout",
     "output_type": "stream",
     "text": [
      "Enter APMC: Telhara\n",
      "Enter Commodity within that APMC: soybean\n"
     ]
    },
    {
     "data": {
      "image/png": "[encoded data removed]",
      "text/plain": [
       "<Figure size 648x504 with 1 Axes>"
      ]
     },
     "metadata": {},
     "output_type": "display_data"
    },
    {
     "data": {
      "text/plain": [
       "<Figure size 432x288 with 0 Axes>"
      ]
     },
     "metadata": {},
     "output_type": "display_data"
    }
   ],
   "source": [
    "apmc = input('Enter APMC: ')\n",
    "comm = input('Enter Commodity within that APMC: ')\n",
    "\n",
    "compare_price(apmc,comm)"
   ]
  },
  {
   "cell_type": "code",
   "execution_count": null,
   "metadata": {},
   "outputs": [],
   "source": []
  },
  {
   "cell_type": "code",
   "execution_count": null,
   "metadata": {},
   "outputs": [],
   "source": []
  }
 ],
 "metadata": {
  "kernelspec": {
   "display_name": "Python 3",
   "language": "python",
   "name": "python3"
  },
  "language_info": {
   "codemirror_mode": {
    "name": "ipython",
    "version": 3
   },
   "file_extension": ".py",
   "mimetype": "text/x-python",
   "name": "python",
   "nbconvert_exporter": "python",
   "pygments_lexer": "ipython3",
   "version": "3.5.2"
  },
  "widgets": {
   "application/vnd.jupyter.widget-state+json": {
    "state": {},
    "version_major": 2,
    "version_minor": 0
   }
  }
 },
 "nbformat": 4,
 "nbformat_minor": 2
}
